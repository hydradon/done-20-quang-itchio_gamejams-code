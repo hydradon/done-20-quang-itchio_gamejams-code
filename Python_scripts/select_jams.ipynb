{
 "metadata": {
  "language_info": {
   "codemirror_mode": {
    "name": "ipython",
    "version": 3
   },
   "file_extension": ".py",
   "mimetype": "text/x-python",
   "name": "python",
   "nbconvert_exporter": "python",
   "pygments_lexer": "ipython3",
   "version": "3.8.2-final"
  },
  "orig_nbformat": 2,
  "kernelspec": {
   "name": "python_defaultSpec_1597602394472",
   "display_name": "Python 3.8.2 64-bit"
  }
 },
 "nbformat": 4,
 "nbformat_minor": 2,
 "cells": [
  {
   "cell_type": "code",
   "execution_count": null,
   "metadata": {},
   "outputs": [],
   "source": [
    "import pandas as pd\n",
    "from datetime import datetime, timedelta\n",
    "import os\n",
    "import numpy as np\n",
    "from natsort import index_natsorted, order_by_index\n",
    "import math"
   ]
  },
  {
   "cell_type": "markdown",
   "metadata": {},
   "source": [
    "### 1. Import data"
   ]
  },
  {
   "cell_type": "code",
   "execution_count": null,
   "metadata": {},
   "outputs": [],
   "source": [
    "df_jams = pd.read_csv('../dataset/jams.csv')\n",
    "df_jam_desc = pd.read_csv('../dataset/jam_desc.csv')"
   ]
  },
  {
   "cell_type": "markdown",
   "metadata": {},
   "source": [
    "### 2. Clean data and preprocess features"
   ]
  },
  {
   "cell_type": "code",
   "execution_count": null,
   "metadata": {},
   "outputs": [],
   "source": [
    "# get jams with duration > 1 hour and truncate top 1% jams\n",
    "date_pattern = \"%Y-%m-%d %H:%M:%S\" # 2016-11-14 12:00:00\n",
    "df_jams[\"jam_duration\"] = (pd.to_datetime(df_jams['jam_end_date'], format=date_pattern) - \\\n",
    "                           pd.to_datetime(df_jams['jam_start_date'], format=date_pattern)) / \\\n",
    "                           timedelta(hours = 1)\n",
    "df_jams = df_jams[df_jams['jam_duration'] > 1] # only get jams lasting more than 1 hour\n",
    "df_jams.sort_values(by=['jam_duration'], \n",
    "                    ascending=True, \n",
    "                    inplace=True)\n",
    "df_jams = df_jams.head(int(len(df_jams)*(99/100))) # remove top 1% in length"
   ]
  },
  {
   "cell_type": "code",
   "execution_count": null,
   "metadata": {},
   "outputs": [],
   "source": [
    "# join jam and jam description\n",
    "df_jam_all = pd.merge(df_jams, df_jam_desc, on='jam_url', how='inner')"
   ]
  },
  {
   "cell_type": "code",
   "execution_count": null,
   "metadata": {},
   "outputs": [],
   "source": [
    "# Calculate number of hosts\n",
    "df_jam_all[\"num_hosts\"] = df_jam_all[\"jam_host\"].map(lambda a: len(a.split(\"||\")))"
   ]
  },
  {
   "cell_type": "code",
   "execution_count": null,
   "metadata": {},
   "outputs": [],
   "source": [
    "# Separate into competitive jam and non-competitive jam\n",
    "competitive_jams = df_jam_all[df_jam_all['jam_criteria'].notnull()]\n",
    "non_competitive_jams = df_jam_all[df_jam_all['jam_criteria'].isnull()]"
   ]
  },
  {
   "cell_type": "code",
   "execution_count": null,
   "metadata": {},
   "outputs": [],
   "source": [
    "# Calculate number of criteria for competitive jam\n",
    "competitive_jams[\"num_criteria\"] = competitive_jams[\"jam_criteria\"].map(lambda a: len(a.split(\"||\")))"
   ]
  },
  {
   "cell_type": "code",
   "execution_count": null,
   "metadata": {},
   "outputs": [],
   "source": []
  }
 ]
}