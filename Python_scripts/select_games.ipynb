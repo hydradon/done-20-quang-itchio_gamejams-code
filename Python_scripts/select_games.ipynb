{
 "metadata": {
  "language_info": {
   "codemirror_mode": {
    "name": "ipython",
    "version": 3
   },
   "file_extension": ".py",
   "mimetype": "text/x-python",
   "name": "python",
   "nbconvert_exporter": "python",
   "pygments_lexer": "ipython3",
   "version": 3
  },
  "orig_nbformat": 2
 },
 "nbformat": 4,
 "nbformat_minor": 2,
 "cells": [
  {
   "cell_type": "markdown",
   "metadata": {},
   "source": [
    "### 0. Import libraries"
   ]
  },
  {
   "cell_type": "code",
   "execution_count": null,
   "metadata": {},
   "outputs": [],
   "source": [
    "import pandas as pd\n",
    "from datetime import datetime, timedelta\n",
    "import numpy as np\n",
    "from natsort import index_natsorted, order_by_index\n",
    "import math"
   ]
  },
  {
   "cell_type": "markdown",
   "metadata": {},
   "source": [
    "### 1. Import data"
   ]
  },
  {
   "cell_type": "code",
   "execution_count": null,
   "metadata": {},
   "outputs": [],
   "source": [
    "df_jams = pd.read_csv('../dataset/jams-raw.csv')\n",
    "df_games = pd.read_csv('../dataset/all_games_details.csv')"
   ]
  },
  {
   "cell_type": "markdown",
   "metadata": {},
   "source": [
    "### 2. Clean jam data"
   ]
  },
  {
   "cell_type": "code",
   "execution_count": null,
   "metadata": {},
   "outputs": [],
   "source": [
    "# only get jams with 10 submissions and above\n",
    "df_jams = df_jams[pd.to_numeric(df_jams.jam_no_submissions) >= 10]\n",
    "\n",
    "# get jams with duration 1hour and truncate top 1% jams\n",
    "# 2016-11-14 12:00:00\t\n",
    "date_pattern = \"%Y-%m-%d %H:%M:%S\"\n",
    "df_jams[\"jam_duration\"] = (pd.to_datetime(df_jams['jam_end_date'], format=date_pattern) - \\\n",
    "                           pd.to_datetime(df_jams['jam_start_date'], format=date_pattern)) / \\\n",
    "                           timedelta(hours = 1)\n",
    "df_jams = df_jams[df_jams['jam_duration'] > 1] # only get jams lasting more than 1 hour\n",
    "df_jams.sort_values(by=['jam_duration'], \n",
    "                    ascending=True, \n",
    "                    inplace=True)\n",
    "df_jams = df_jams.head(int(len(df_jams)*(99/100))) # remove top 1% in length"
   ]
  },
  {
   "cell_type": "markdown",
   "metadata": {},
   "source": [
    "### 3. Clean game data"
   ]
  },
  {
   "cell_type": "code",
   "execution_count": null,
   "metadata": {},
   "outputs": [],
   "source": [
    "# Remove games with no developes => This is an indication of games with inaccessible private pages.\n",
    "df_games.dropna(subset=['game_developers'], inplace=True)\n",
    "\n",
    "# Remove the word \"rating\"\n",
    "df_games['game_no_ratings'] = df_games['game_no_ratings'].str.replace(' rating', '')\n",
    "\n",
    "# Add www to jam_url in game dataset\n",
    "df_games['jam_url'] = df_games['jam_url'].str.replace('https://itch.io', 'https://www.itch.io')\n",
    "\n",
    "# Keep games that are submitted to the studied jams\n",
    "df_games = df_games[df_games.jam_url.isin(df_jams.jam_url)]\n",
    "\n",
    "# Remove games without ranking\n",
    "df_games['game_ranks'].replace('', np.nan, inplace=True)\n",
    "df_games.dropna(subset=['game_ranks'], inplace=True)\n",
    "\n",
    "#Remove games with less than 10 rating\n",
    "df_games = df_games[df_games.game_no_ratings > 9]"
   ]
  },
  {
   "cell_type": "markdown",
   "metadata": {},
   "source": [
    "### 4. Extract the primary ranking of games"
   ]
  },
  {
   "cell_type": "code",
   "execution_count": null,
   "metadata": {},
   "outputs": [],
   "source": [
    "# Extract only Overall ranking or game with one criteria\n",
    "for i, row in df_games.iterrows():\n",
    "    criteria = row['game_criteria'].split(\"||\")\n",
    "\n",
    "    # print(criteria)\n",
    "    rank = \"\"\n",
    "\n",
    "    if len(criteria) > 1:\n",
    "        # print(\"There are many criteria\")\n",
    "        for criterion in criteria:\n",
    "            # print(\"Processing criterion:...\" + criterion)\n",
    "            # input(\".....\")\n",
    "            if \"Overall\" == criterion:\n",
    "                # print(\"Found Overall criterion\")\n",
    "                rankings = row['game_ranks'].split(\"||\")\n",
    "                # print(rankings)\n",
    "                # print(\"Index of Overall criterion: \" + str(criteria.index(criterion)))\n",
    "                rank = rankings[criteria.index(criterion)]\n",
    "                # print(rank)\n",
    "                break\n",
    "            elif \"Overall\" in criterion:\n",
    "                # print(\"Found Overall IN criterion\")\n",
    "                rankings = row['game_ranks'].split(\"||\")\n",
    "                # print(rankings)\n",
    "                # print(\"Index of Overall criterion: \" + str(criteria.index(criterion)))\n",
    "                rank = rankings[criteria.index(criterion)]\n",
    "                # print(rank)\n",
    "    \n",
    "    else:\n",
    "        rank = row['game_ranks']\n",
    "\n",
    "    df_games.loc[i, 'overall_rank'] = rank\n",
    "\n",
    "# Drop rows with no Overall ranking\n",
    "df_games = df_games[df_games.overall_rank != '']"
   ]
  },
  {
   "cell_type": "markdown",
   "metadata": {},
   "source": [
    "### 5. Extract top and bottom 20% ranked games"
   ]
  },
  {
   "cell_type": "code",
   "execution_count": null,
   "metadata": {},
   "outputs": [],
   "source": [
    "frames = []\n",
    "\n",
    "for i, row in df_jams.iterrows():\n",
    "    jam_url = row['jam_url']\n",
    "    # print(jam_url)\n",
    "    games_in_jam = df_games[df_games.jam_url.isin([row['jam_url']])]\n",
    "\n",
    "    if (len(games_in_jam) > 0):\n",
    "        # print(\"Found jams with games\")\n",
    "      \n",
    "        games_in_jam = games_in_jam.reindex(index=order_by_index(games_in_jam.index,\n",
    "                                                                 index_natsorted(games_in_jam['overall_rank'],\n",
    "                                            reverse=False)))\n",
    "\n",
    "        top_n = math.ceil(len(games_in_jam)*(20/100)) # Actual nymber of games in the 20%\n",
    "\n",
    "        # Get top 20% games in this jams\n",
    "        top_20_games = games_in_jam.head(top_n)\n",
    "        top_20_games.insert(len(top_20_games.columns), \n",
    "                            'high_ranking',\n",
    "                            pd.Series(\"Yes\",  index=top_20_games.index)) # Assign a boolean Yes for high-ranking games\n",
    "        frames.append(top_20_games)\n",
    "\n",
    "         # Get bottom 20% games in this jams\n",
    "        bottom_20_games = games_in_jam.tail(top_n)\n",
    "        bottom_20_games.insert(len(bottom_20_games.columns), \n",
    "                               'high_ranking',\n",
    "                               pd.Series(\"No\",  index=bottom_20_games.index))\n",
    "        frames.append(bottom_20_games)\n",
    "        # break\n",
    "\n",
    "df_concat = pd.concat(frames)"
   ]
  },
  {
   "cell_type": "markdown",
   "metadata": {},
   "source": [
    "### 6. Compute other game features"
   ]
  },
  {
   "cell_type": "code",
   "execution_count": null,
   "metadata": {},
   "outputs": [],
   "source": [
    "# Calculate number of developer\n",
    "df_concat[\"num_devs\"] = df_concat[\"game_developers\"].map(lambda a: len(a.split(\"||\")))\n",
    "\n",
    "# Calculate number of supported platforms\n",
    "df_concat[\"num_platforms\"] = df_concat[\"game_platforms\"].map(lambda a: len(a.split(\"||\")) if pd.notna(a) else 0)\n",
    "\n",
    "# Calculate number of game genres\n",
    "df_concat[\"num_genres\"] = df_concat[\"game_genres\"].map(lambda a: len(a.split(\"||\")) if pd.notna(a) else 0)\n",
    "\n",
    "# Calculate number of supported input\n",
    "df_concat[\"num_inputs\"] = df_concat[\"game_inputs\"].map(lambda a: len(a.split(\"||\")) if pd.notna(a) else 0)\n",
    "\n",
    "# Calculate number of madeWith\n",
    "df_concat[\"num_madeWiths\"] = df_concat[\"game_made_with\"].map(lambda a: len(a.split(\"||\")) if pd.notna(a) else 0)"
   ]
  },
  {
   "cell_type": "markdown",
   "metadata": {},
   "source": [
    "### 7. Encode categorical game features"
   ]
  },
  {
   "cell_type": "code",
   "execution_count": null,
   "metadata": {},
   "outputs": [],
   "source": [
    "# Encoding categorical variables using Series.get_dummies()\n",
    "df_final = pd.concat([df_concat,\n",
    "                      df_concat.game_platforms.str.get_dummies().add_prefix('platform_'),\n",
    "                      df_concat.game_genres.str.get_dummies().add_prefix('genre_'),\n",
    "                      df_concat.game_inputs.str.get_dummies().add_prefix('input_'),\n",
    "                      df_concat.game_ave_session.str.get_dummies().add_prefix('aveSession_'),\n",
    "                      df_concat.game_made_with.str.get_dummies().add_prefix('madeWith_')\n",
    "                     ],\n",
    "                     axis=1)\n",
    "\n",
    "# For categorical features with a few non-empty values, convert to boolean Yes/No\n",
    "df_final['has_accesibility'] = df_final[\"game_accessibility\"].apply(lambda x: 0 if pd.isnull(x) else 1)\n",
    "df_final['has_license'] = df_final[\"game_license\"].apply(lambda x: 0 if pd.isnull(x) else 1)\n",
    "df_final['has_asset_license'] = df_final[\"game_asset_license\"].apply(lambda x: 0 if pd.isnull(x) else 1)"
   ]
  },
  {
   "cell_type": "markdown",
   "metadata": {},
   "source": [
    "#### 7a (Optional) Only keep dummy columns with the most values for these sets of columns:\n",
    "platform_*, input_*, madeWith_*, genre_*"
   ]
  },
  {
   "cell_type": "code",
   "execution_count": null,
   "metadata": {},
   "outputs": [],
   "source": [
    "# Reduced platform attribute\n",
    "cols = [col for col in df_final.columns.values \n",
    "                    if col.startswith('platform_') \n",
    "                    and col.split('_')[1] not in ('Windows', 'HTML5', 'Linux', 'macOS')]\n",
    "\n",
    "df_final['platform_others'] = df_final[cols].any(axis=1).astype(int)\n",
    "df_final.drop(cols, axis=1, inplace=True)\n",
    "\n",
    "# Reduced input attribute\n",
    "cols = [col for col in df_final.columns.values \n",
    "                    if col.startswith('input_') \n",
    "                    and col.split('_')[1] not in ('Keyboard', 'Mouse')]\n",
    "\n",
    "df_final['input_others'] = df_final[cols].any(axis=1).astype(int)\n",
    "df_final.drop(cols, axis=1, inplace=True)\n",
    "\n",
    "# Reduced madeWith attribute\n",
    "cols = [col for col in df_final.columns.values \n",
    "                    if col.startswith('madeWith_') \n",
    "                    and col.split('_')[1] not in ('Unity')]\n",
    "                                                    # 'Construct', 'GameMaker: Studio', 'Godot')]\n",
    "\n",
    "df_final['madeWith_others'] = df_final[cols].any(axis=1).astype(int)\n",
    "df_final.drop(cols, axis=1, inplace=True)\n",
    "\n",
    "# Reduced genre attribute\n",
    "cols = [col for col in df_final.columns.values \n",
    "                    if col.startswith('genre_') \n",
    "                    and col.split('_')[1] not in ('Action', 'Platformer', 'Puzzle')]\n",
    "\n",
    "df_final['genre_others'] = df_final[cols].any(axis=1).astype(int)\n",
    "df_final.drop(cols, axis=1, inplace=True)"
   ]
  },
  {
   "cell_type": "markdown",
   "metadata": {},
   "source": [
    "### 8. Drop unused columns"
   ]
  },
  {
   "cell_type": "code",
   "execution_count": null,
   "metadata": {},
   "outputs": [],
   "source": [
    "df_final.drop([\"jam_name\", \n",
    "               \"game_tags\", \n",
    "               \"game_release_date\",\n",
    "               \"game_raw_scores\",\n",
    "               \"game_scores\",\n",
    "               \"game_publish_date\",\n",
    "               \"game_size\",\n",
    "               \"game_status\",\n",
    "               \"game_last_update\",\n",
    "               \"game_developers\",\n",
    "               \"game_genres\",\n",
    "               \"game_inputs\",\n",
    "               \"game_license\",\n",
    "               \"game_asset_license\",\n",
    "               \"game_made_with\",\n",
    "               \"game_name\",\n",
    "               \"game_platforms\",\n",
    "               \"game_price\",\n",
    "               \"game_ranks\",\n",
    "               \"game_submission_page\",\n",
    "               \"game_url\",\n",
    "               \"jam_url\",\n",
    "               \"game_developers_url\",\n",
    "               \"game_language\",\n",
    "               \"game_no_ratings\",\n",
    "               \"game_criteria\",\n",
    "               \"game_accessibility\",\n",
    "               \"game_ave_session\",\n",
    "               \"game_source_code\",\n",
    "               \"overall_rank\"\n",
    "               ], \n",
    "              axis=1, inplace=True) "
   ]
  },
  {
   "cell_type": "markdown",
   "metadata": {},
   "source": [
    "### 9. Save to csv"
   ]
  },
  {
   "cell_type": "code",
   "execution_count": null,
   "metadata": {},
   "outputs": [],
   "source": [
    "import os\n",
    "# Write new cleaned game dataset\n",
    "output_game = \"../dataset/games_cleaned.csv\"\n",
    "if os.path.exists(output_game):\n",
    "    os.remove(output_game)\n",
    "df_final.to_csv(output_game, encoding='utf-8-sig', index=False)"
   ]
  }
 ]
}