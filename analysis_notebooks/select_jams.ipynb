{
 "metadata": {
  "language_info": {
   "codemirror_mode": {
    "name": "ipython",
    "version": 3
   },
   "file_extension": ".py",
   "mimetype": "text/x-python",
   "name": "python",
   "nbconvert_exporter": "python",
   "pygments_lexer": "ipython3",
   "version": "3.8.2-final"
  },
  "orig_nbformat": 2,
  "kernelspec": {
   "name": "python_defaultSpec_1597602394472",
   "display_name": "Python 3.8.2 64-bit"
  }
 },
 "nbformat": 4,
 "nbformat_minor": 2,
 "cells": [
  {
   "cell_type": "markdown",
   "metadata": {},
   "source": [
    "### 0. Import libraries"
   ]
  },
  {
   "cell_type": "code",
   "execution_count": 15,
   "metadata": {},
   "outputs": [],
   "source": [
    "import pandas as pd\n",
    "from datetime import datetime, timedelta\n",
    "import os\n",
    "import numpy as np\n",
    "from natsort import index_natsorted, order_by_index\n",
    "import math"
   ]
  },
  {
   "cell_type": "markdown",
   "metadata": {},
   "source": [
    "### 1. Import data"
   ]
  },
  {
   "cell_type": "code",
   "execution_count": 16,
   "metadata": {},
   "outputs": [],
   "source": [
    "df_jams = pd.read_csv('../dataset/jams-raw.csv')\n",
    "df_jam_desc = pd.read_csv('../dataset/jam_desc.csv')"
   ]
  },
  {
   "cell_type": "markdown",
   "metadata": {},
   "source": [
    "### 2. Clean data and preprocess features"
   ]
  },
  {
   "cell_type": "code",
   "execution_count": null,
   "metadata": {},
   "outputs": [],
   "source": [
    "# Fill jams with no ratings information with 0\n",
    "df_jams['jam_no_rating'].fillna('0', inplace = True)\n",
    "\n",
    "# Remove ',' from the number\n",
    "df_jams['jam_no_rating'] = df_jams['jam_no_rating'].str.replace(',', '')\n",
    "\n",
    "# Convert k, m to 000 and 000000\n",
    "df_jams['jam_no_rating'] = (df_jams['jam_no_rating'].replace(r'[km]+$', '', regex=True).astype(float) * \\\n",
    "                            df_jams['jam_no_rating'].str.extract(r'[\\d\\.]+([km]+)', expand=False)\n",
    "                                                    .fillna(1)\n",
    "                                                    .replace(['k','m'], [10**3, 10**6]).astype(int)).astype(int)"
   ]
  },
  {
   "cell_type": "code",
   "execution_count": 17,
   "metadata": {},
   "outputs": [],
   "source": [
    "# get jams with duration > 1 hour and truncate top 1% jams\n",
    "date_pattern = \"%Y-%m-%d %H:%M:%S\" # 2016-11-14 12:00:00\n",
    "df_jams[\"jam_duration\"] = (pd.to_datetime(df_jams['jam_end_date'], format=date_pattern) - \\\n",
    "                           pd.to_datetime(df_jams['jam_start_date'], format=date_pattern)) / \\\n",
    "                           timedelta(hours = 1)\n",
    "df_jams = df_jams[df_jams['jam_duration'] > 1] # only get jams lasting more than 1 hour\n",
    "df_jams.sort_values(by=['jam_duration'], \n",
    "                    ascending=True, \n",
    "                    inplace=True)\n",
    "df_jams = df_jams.head(int(len(df_jams)*(99/100))) # remove top 1% in length"
   ]
  },
  {
   "cell_type": "code",
   "execution_count": 18,
   "metadata": {},
   "outputs": [],
   "source": [
    "# join jam and jam description\n",
    "df_jam_all = pd.merge(df_jams, df_jam_desc, on='jam_url', how='inner')"
   ]
  },
  {
   "cell_type": "code",
   "execution_count": 19,
   "metadata": {},
   "outputs": [],
   "source": [
    "# Calculate number of hosts\n",
    "df_jam_all[\"num_hosts\"] = df_jam_all[\"jam_host\"].map(lambda a: len(a.split(\"||\")))"
   ]
  },
  {
   "cell_type": "code",
   "execution_count": 20,
   "metadata": {},
   "outputs": [],
   "source": [
    "# Separate into competitive jam and non-competitive jam\n",
    "competitive_jams = df_jam_all[df_jam_all['jam_criteria'].notnull()]\n",
    "non_competitive_jams = df_jam_all[df_jam_all['jam_criteria'].isnull()]"
   ]
  },
  {
   "cell_type": "code",
   "execution_count": 21,
   "metadata": {},
   "outputs": [],
   "source": [
    "# Calculate number of criteria for competitive jam\n",
    "competitive_jams[\"num_criteria\"] = competitive_jams[\"jam_criteria\"].map(lambda a: len(a.split(\"||\")))"
   ]
  },
  {
   "cell_type": "markdown",
   "metadata": {},
   "source": [
    "### 3. Separate jams into top 20% and bottom 20% in terms of number of submissions (for binary logistic regresssion)"
   ]
  },
  {
   "cell_type": "code",
   "execution_count": 22,
   "metadata": {},
   "outputs": [],
   "source": [
    "# Get top and bottom 20% jam by popularity (number of submissions) - Competitive jams\n",
    "top_n = math.ceil(len(competitive_jams)*(20/100))\n",
    "competitive_jams = competitive_jams.reindex(index=order_by_index(competitive_jams.index,\n",
    "                                                                index_natsorted(competitive_jams['jam_no_submissions'],\n",
    "                                            reverse=True)))\n",
    "top_20_jam = competitive_jams.head(top_n)\n",
    "top_20_jam.insert(len(top_20_jam.columns), \n",
    "                    'popular',\n",
    "                    pd.Series(\"Yes\", index=top_20_jam.index))\n",
    "# frames.append(top_20_jam)\n",
    "\n",
    "bottom_20_jam = competitive_jams.tail(top_n)\n",
    "bottom_20_jam.insert(len(bottom_20_jam.columns), \n",
    "                        'popular',\n",
    "                        pd.Series(\"No\", index=bottom_20_jam.index))\n",
    "# frames.append(bottom_20_jam)\n",
    "final_competitive_jams = pd.concat([top_20_jam, bottom_20_jam])"
   ]
  },
  {
   "cell_type": "code",
   "execution_count": 23,
   "metadata": {},
   "outputs": [],
   "source": [
    "# Get top and bottom 20% jam by popularity (number of submissions) - Non-Competitive jams\n",
    "top_n = math.ceil(len(non_competitive_jams)*(20/100))\n",
    "non_competitive_jams = non_competitive_jams.reindex(index=order_by_index(non_competitive_jams.index,\n",
    "                                                                        index_natsorted(non_competitive_jams['jam_no_submissions'],\n",
    "                                                    reverse=True)))\n",
    "top_20_jam = non_competitive_jams.head(top_n)\n",
    "top_20_jam.insert(len(top_20_jam.columns), \n",
    "                    'popular',\n",
    "                    pd.Series(\"Yes\", index=top_20_jam.index))\n",
    "# frames.append(top_20_jam)\n",
    "\n",
    "bottom_20_jam = non_competitive_jams.tail(top_n)\n",
    "bottom_20_jam.insert(len(bottom_20_jam.columns), \n",
    "                        'popular',\n",
    "                        pd.Series(\"No\", index=bottom_20_jam.index))\n",
    "# frames.append(bottom_20_jam)\n",
    "final_non_competitive_jams = pd.concat([top_20_jam, bottom_20_jam])"
   ]
  },
  {
   "cell_type": "markdown",
   "metadata": {},
   "source": [
    "### 4. Writing to csv"
   ]
  },
  {
   "cell_type": "code",
   "execution_count": 24,
   "metadata": {},
   "outputs": [],
   "source": [
    "# Write competitive_jams dataset\n",
    "output_file = \"../dataset/competitive_jams_cleaned.csv\"\n",
    "if os.path.exists(output_file):\n",
    "    os.remove(output_file)\n",
    "final_competitive_jams.to_csv(output_file, encoding='utf-8-sig', index=False)"
   ]
  },
  {
   "cell_type": "code",
   "execution_count": 25,
   "metadata": {},
   "outputs": [],
   "source": [
    "# Write non competitive_jams dataset\n",
    "output_file = \"../dataset/non_competitive_jams_cleaned.csv\"\n",
    "if os.path.exists(output_file):\n",
    "    os.remove(output_file)\n",
    "final_non_competitive_jams.to_csv(output_file, encoding='utf-8-sig', index=False)"
   ]
  }
 ]
}